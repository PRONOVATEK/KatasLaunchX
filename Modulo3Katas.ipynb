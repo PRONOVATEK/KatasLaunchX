{
 "cells": [
  {
   "cell_type": "markdown",
   "metadata": {},
   "source": [
    "# Modulo Katas 3\n",
    "\n",
    "## Ejercicio 1"
   ]
  },
  {
   "cell_type": "code",
   "execution_count": 4,
   "metadata": {},
   "outputs": [
    {
     "name": "stdout",
     "output_type": "stream",
     "text": [
      "¡PELIGRO! ¡Un asteroide se aproxima muy rapido!, su velocidad aproximada es: 255\n"
     ]
    }
   ],
   "source": [
    "# Añadir el código necesario para crear una variable que guarde la velocidad del asteroide.\n",
    "# Escribe una expresión de prueba para calcular si necesita una advertencia.\n",
    "# Agregue las instrucciones que se ejecutarán si la expresión de prueba es true o false.\n",
    "\n",
    "velAsteroide = 255\n",
    "if velAsteroide > 128:\n",
    "    print('¡PELIGRO! ¡Un asteroide se aproxima muy rapido!, su velocidad aproximada es: ' + str(velAsteroide))\n",
    "else:\n",
    "    print('Todo normal en el espacio, solo he detectado un asteroide con una velocidad de:  ' + str(velAsteroide))"
   ]
  },
  {
   "cell_type": "markdown",
   "metadata": {},
   "source": [
    "## Ejercicio 2"
   ]
  },
  {
   "cell_type": "code",
   "execution_count": 7,
   "metadata": {},
   "outputs": [
    {
     "name": "stdout",
     "output_type": "stream",
     "text": [
      "Se observa un rayo de luz desde la tierra a una velocidad calculada de :19, disfruta el espectaculo.\n"
     ]
    }
   ],
   "source": [
    "# Agrega el código para crear una variable para un asteroide que viaja a 19 km/s\n",
    "# Escribe varias expresiones de prueba para determinar si puedes ver el rayo de luz desde la tierra\n",
    "# Agrega las instrucciones que se ejecutarán si las expresiones de prueba son True o False\n",
    "\n",
    "velAsteroide = 19\n",
    "if velAsteroide >= 19:\n",
    "    print('Se observa un rayo de luz desde la tierra a una velocidad calculada de :' + str(velAsteroide) + \", disfruta el espectaculo.\")\n",
    "elif velAsteroide == 19:\n",
    "    print('Se observa un rayo de luz desde la tierra a una velocidad calculada de : 19, disfruta el espectaculo.')\n",
    "else:\n",
    "    print('De momento todo tranquilo y sereno')"
   ]
  },
  {
   "cell_type": "markdown",
   "metadata": {},
   "source": [
    "## Ejercicio 3"
   ]
  },
  {
   "cell_type": "code",
   "execution_count": 8,
   "metadata": {},
   "outputs": [
    {
     "name": "stdout",
     "output_type": "stream",
     "text": [
      "¡Peligro!, Un asteroide se aproxima hacia la tierra!, se calcula su velocidad a: 74, y su velocidad aproximada es: 123\n"
     ]
    }
   ],
   "source": [
    "# Agrega el código para crear nuevas variables para la velocidad y el tamaño del asteroide\n",
    "# Para probar el código, prueba con varias velocidades y tamaños\n",
    "# Escribe varias expresiones de prueba o combinaciones de expresiones de prueba para determinar qué mensaje se debe enviar a Tierra.\n",
    "\n",
    "velAsteroide = 74\n",
    "medidaAsteroide = 123\n",
    "if velAsteroide > 50 and medidaAsteroide > 100:\n",
    "    print('¡Peligro!, Un asteroide se aproxima hacia la tierra!, se calcula su velocidad a: ' + str(velAsteroide) + ', y su velocidad aproximada es: ' + str(medidaAsteroide))\n",
    "elif velAsteroide >= 30:\n",
    "    print('Se observa un rayo de luz desde la tierra a una velocidad calculada de :' + str(velAsteroide) + \", disfruta el espectaculo.\")\n",
    "elif medidaAsteroide < 20:\n",
    "    print('De momento todo tranquilo y sereno')\n",
    "else:\n",
    "    print('De momento todo tranquilo y sereno')"
   ]
  }
 ],
 "metadata": {
  "interpreter": {
   "hash": "31f2aee4e71d21fbe5cf8b01ff0e069b9275f58929596ceb00d14d90e3e16cd6"
  },
  "kernelspec": {
   "display_name": "Python 3.8.9 64-bit",
   "language": "python",
   "name": "python3"
  },
  "language_info": {
   "codemirror_mode": {
    "name": "ipython",
    "version": 3
   },
   "file_extension": ".py",
   "mimetype": "text/x-python",
   "name": "python",
   "nbconvert_exporter": "python",
   "pygments_lexer": "ipython3",
   "version": "3.8.9"
  },
  "orig_nbformat": 4
 },
 "nbformat": 4,
 "nbformat_minor": 2
}
