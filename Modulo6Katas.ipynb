{
 "cells": [
  {
   "cell_type": "markdown",
   "metadata": {},
   "source": [
    "# Modulo Katas 6\n",
    "\n",
    "## Ejercicio 1"
   ]
  },
  {
   "cell_type": "code",
   "execution_count": 2,
   "metadata": {},
   "outputs": [
    {
     "name": "stdout",
     "output_type": "stream",
     "text": [
      "El ultimo planeta de la lista es: Plutón\n"
     ]
    }
   ],
   "source": [
    "# Lista de planetas\n",
    "planetas = ['Mercurio', 'Venus', 'Tierra', 'Marte', 'Jupiter', 'Saturno', 'Urano', 'Neptuno']\n",
    "\n",
    "# Se agrega a plutón y se muestra el último elemento\n",
    "planetas.append('Plutón')\n",
    "\n",
    "print(\"El ultimo planeta de la lista es: \" + planetas[-1])"
   ]
  },
  {
   "cell_type": "markdown",
   "metadata": {},
   "source": [
    "## Ejercicio 2"
   ]
  },
  {
   "cell_type": "code",
   "execution_count": 9,
   "metadata": {},
   "outputs": [
    {
     "name": "stdout",
     "output_type": "stream",
     "text": [
      "\n",
      "Detalle de Planetas cercanos y lejanos al Sol\n",
      "-------------------------------------------------------------------------------\n",
      "los planetas más Cercanos : \t['Mercury', 'Venus']\n",
      "los planetas más Lejanos  : \t['Mars', 'Jupiter', 'Saturn', 'Neptune']\n",
      "\n"
     ]
    }
   ],
   "source": [
    "# Lista de planetas\n",
    "planetas = ['Mercury', 'Venus', 'Earth', 'Mars', 'Jupiter', 'Saturn', 'Neptune']\n",
    "\n",
    "# Solicitamos el nombre de un planeta al usuario\n",
    "planetaUsuario = input('Ingrese el nombre de un planeta a buscar (Escriba la primera letra en Mayuscula): ')\n",
    "\n",
    "# Busca el planeta en la lista\n",
    "busquedaPlaneta = planetas.index(planetaUsuario)\n",
    "\n",
    "planetasCercanos = planetas[0:busquedaPlaneta]\n",
    "planetasLejanos = planetas[busquedaPlaneta + 1:]\n",
    "\n",
    "# Se genera la plantilla\n",
    "# Se genera el titulo\n",
    "nuevaPlantilla = \"\"\"\n",
    "Detalle de Planetas cercanos y lejanos al Sol\n",
    "-------------------------------------------------------------------------------\n",
    "los planetas más Cercanos : \\t{cerca}\n",
    "los planetas más Lejanos  : \\t{lejos}\n",
    "\"\"\"\n",
    "# Se realiza la impresion de la tierra\n",
    "print(nuevaPlantilla.format(cerca=planetasCercanos, lejos=planetasLejanos))"
   ]
  }
 ],
 "metadata": {
  "interpreter": {
   "hash": "31f2aee4e71d21fbe5cf8b01ff0e069b9275f58929596ceb00d14d90e3e16cd6"
  },
  "kernelspec": {
   "display_name": "Python 3.8.9 64-bit",
   "language": "python",
   "name": "python3"
  },
  "language_info": {
   "codemirror_mode": {
    "name": "ipython",
    "version": 3
   },
   "file_extension": ".py",
   "mimetype": "text/x-python",
   "name": "python",
   "nbconvert_exporter": "python",
   "pygments_lexer": "ipython3",
   "version": "3.8.9"
  },
  "orig_nbformat": 4
 },
 "nbformat": 4,
 "nbformat_minor": 2
}
