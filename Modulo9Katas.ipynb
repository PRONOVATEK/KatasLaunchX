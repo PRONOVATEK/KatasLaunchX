{
 "cells": [
  {
   "cell_type": "markdown",
   "metadata": {},
   "source": [
    "# Modulo Katas 9\n",
    "\n",
    "## Ejercicio 1"
   ]
  },
  {
   "cell_type": "code",
   "execution_count": 4,
   "metadata": {},
   "outputs": [
    {
     "name": "stdout",
     "output_type": "stream",
     "text": [
      "Reporte de Combustible:\n",
      "    Promedio Total: 62.333333333333336%\n",
      "    Tanque 1: 25%\n",
      "    Tanque 2: 62%\n",
      "    Tanque 3: 100% \n",
      "    \n",
      "Reporte de Combustible:\n",
      "    Promedio Total: 99.66666666666667%\n",
      "    Tanque 1 100%\n",
      "    Tanque 2 99%\n",
      "    Tanque 3 100% \n",
      "    \n"
     ]
    }
   ],
   "source": [
    "# Generaremos una funcion para leer 3 tanques de combustible y que muestre el promedio \n",
    "def reportePromedio3(tanque1, tanque2, tanque3):\n",
    "    promedio = (tanque1 + tanque2 + tanque3) / 3\n",
    "    return f\"\"\"Reporte de Combustible:\n",
    "    Promedio Total: {promedio}%\n",
    "    Tanque 1: {tanque1}%\n",
    "    Tanque 2: {tanque2}%\n",
    "    Tanque 3: {tanque3}% \n",
    "    \"\"\"\n",
    "\n",
    "# Invocamos la funcion para que genere el reporte print(funcion(tanque1, tanque2, tanque3))\n",
    "prueba1 = reportePromedio3(25, 62, 100)\n",
    "print(prueba1)\n",
    "\n",
    "# Función promedio segmenada de la funcion anterior \n",
    "def promedio(valores):\n",
    "    total = sum(valores)\n",
    "    numeroTanques = len(valores)\n",
    "    promedio = total / numeroTanques\n",
    "    return promedio\n",
    "\n",
    "# Realizamos el calculo de un promedio\n",
    "promedio([25, 25, 25]) \n",
    "\n",
    "# Actualiza la función e imprimimos los nuevos datos\n",
    "def reportePromedio(tanque1, tanque2, tanque3):\n",
    "    return f\"\"\"Reporte de Combustible:\n",
    "    Promedio Total: {promedio([tanque1, tanque2, tanque3])}%\n",
    "    Tanque 1 {tanque1}%\n",
    "    Tanque 2 {tanque2}%\n",
    "    Tanque 3 {tanque3}% \n",
    "    \"\"\"\n",
    "\n",
    "# Imprimimos la funcion con los nuevos resultados\n",
    "resultadoFinal = reportePromedio(100, 99, 100)\n",
    "print(resultadoFinal)"
   ]
  },
  {
   "cell_type": "markdown",
   "metadata": {},
   "source": [
    "## Ejercicio 2"
   ]
  },
  {
   "cell_type": "code",
   "execution_count": 18,
   "metadata": {},
   "outputs": [
    {
     "name": "stdout",
     "output_type": "stream",
     "text": [
      "\n",
      "    El destino de esta mision es a La Luna\n",
      "    El tiempo total del vuelo será: 130 Minutos\n",
      "    El Combustible restante es: 1323700 Galones\n",
      "    \n",
      "\n",
      "    El destino de esta mision es a La Luna\n",
      "    El tiempo total del vuelo será: 114 Minutos\n",
      "    El Combustible restante es: 74009855 Galones\n",
      "    \n",
      "\n",
      "    El destino de esta mision es a La luna\n",
      "    El tiempo total del vuelo será: 778 Minutos\n",
      "    El Combustible restante es: 18320606 Galones\n",
      "    \tAl tanque Principal Le restan 9377923 Galones\n",
      "\tAl tanque Externo Le restan 8942683 Galones\n",
      "\n"
     ]
    }
   ],
   "source": [
    "# Realizamos una funcion que brinde un informe de la mision tomando en cuenta, tiempo de vuelo, destino, tanque principal y tanque externo\n",
    "def reporteMision(prelanzamiento, tiempoVuelo, destino, tanqueGasExt, tanqueGasP):\n",
    "    return f\"\"\"\n",
    "    El destino de esta mision es a {destino}\n",
    "    El tiempo total del vuelo será: {prelanzamiento + tiempoVuelo} Minutos\n",
    "    El Combustible restante es: {tanqueGasExt + tanqueGasP} Galones\n",
    "    \"\"\"\n",
    "mision1 = reporteMision(10, 120, \"La Luna\", 600230, 723470)\n",
    "\n",
    "# Mostramos el resultado\n",
    "print(mision1)\n",
    "\n",
    "# Se redefine la funcion con los nuevos argumentos *minutes y **fuel_reservoirs\n",
    "def reporteMision1(destino, *minutes, **fuel_reservoirs):\n",
    "    return f\"\"\"\n",
    "    El destino de esta mision es a {destino}\n",
    "    El tiempo total del vuelo será: {sum(minutes)} Minutos\n",
    "    El Combustible restante es: {sum(fuel_reservoirs.values())} Galones\n",
    "    \"\"\"\n",
    "\n",
    "actualizaMision = reporteMision1(\"La Luna\", 60, 23, 31, tanqueGasP=65443423, tanqueGasExt=8566432)\n",
    "\n",
    "# Nuevamente mostramos el resultado\n",
    "print(actualizaMision)\n",
    "\n",
    "\n",
    "# recreamos otra nueva funcion con los nuevas especificaciones de desgaste\n",
    "def reporteMision2(destino, *minutes, **fuel_reservoirs):\n",
    "    informe = f\"\"\"\n",
    "    El destino de esta mision es a {destino}\n",
    "    El tiempo total del vuelo será: {sum(minutes)} Minutos\n",
    "    El Combustible restante es: {sum(fuel_reservoirs.values())} Galones\n",
    "    \"\"\"\n",
    "    for nombreTanque, galones in fuel_reservoirs.items():\n",
    "        informe += f\"\\tAl tanque {nombreTanque} Le restan {galones} Galones\\n\"\n",
    "    return informe\n",
    "\n",
    "reporteFinal = reporteMision2(\"La luna\", 15, 231, 532, Principal=9377923, Externo=8942683)\n",
    "\n",
    "#Se imprime el ultimo reporte\n",
    "print(reporteFinal)"
   ]
  }
 ],
 "metadata": {
  "interpreter": {
   "hash": "31f2aee4e71d21fbe5cf8b01ff0e069b9275f58929596ceb00d14d90e3e16cd6"
  },
  "kernelspec": {
   "display_name": "Python 3.8.9 64-bit",
   "language": "python",
   "name": "python3"
  },
  "language_info": {
   "codemirror_mode": {
    "name": "ipython",
    "version": 3
   },
   "file_extension": ".py",
   "mimetype": "text/x-python",
   "name": "python",
   "nbconvert_exporter": "python",
   "pygments_lexer": "ipython3",
   "version": "3.8.9"
  },
  "orig_nbformat": 4
 },
 "nbformat": 4,
 "nbformat_minor": 2
}
