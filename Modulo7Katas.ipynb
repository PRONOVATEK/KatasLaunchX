{
 "cells": [
  {
   "cell_type": "markdown",
   "metadata": {},
   "source": [
    "# Modulo Katas 7\n",
    "\n",
    "## Ejercicio 1"
   ]
  },
  {
   "cell_type": "code",
   "execution_count": 10,
   "metadata": {},
   "outputs": [],
   "source": [
    "# Declaramos 2 variables\n",
    "new_planet = ''\n",
    "planets = []\n",
    "\n",
    "# Escribe el ciclo while solicitado\n",
    "while new_planet != 'done': # Mientras la palabra no sea done\n",
    "    if new_planet: # Validamos que no este vacio el campo\n",
    "        planets.append(new_planet)\n",
    "    new_planet = input('add a new planet:  ')\n",
    "    new_planet = new_planet.lower() # Convertimos el trexto ingresado a minusculas\n",
    "\n",
    "##print(\"La lista de planetas escrita fue: \" + str(planets)) "
   ]
  },
  {
   "cell_type": "markdown",
   "metadata": {},
   "source": [
    "## Ejercicio 2"
   ]
  },
  {
   "cell_type": "code",
   "execution_count": 11,
   "metadata": {},
   "outputs": [
    {
     "name": "stdout",
     "output_type": "stream",
     "text": [
      "\n",
      "    El Planeta número 0 ingresado en la lista es: mercurio\n",
      "    \n",
      "\n",
      "    El Planeta número 1 ingresado en la lista es: venus\n",
      "    \n",
      "\n",
      "    El Planeta número 2 ingresado en la lista es: tierra\n",
      "    \n",
      "\n",
      "    El Planeta número 3 ingresado en la lista es: marte\n",
      "    \n",
      "\n",
      "    El Planeta número 4 ingresado en la lista es: jupiter\n",
      "    \n",
      "\n",
      "    El Planeta número 5 ingresado en la lista es: saturno\n",
      "    \n",
      "\n",
      "    El Planeta número 6 ingresado en la lista es: urano\n",
      "    \n",
      "\n",
      "    El Planeta número 7 ingresado en la lista es: neptuno\n",
      "    \n"
     ]
    }
   ],
   "source": [
    "# Realizamos un ciclo para mostrar en una plantilla los datos de los planetas\n",
    "for i in range(len(planets)):\n",
    "    nuevaPlantilla = \"\"\"\n",
    "    El Planeta número {numero} ingresado en la lista es: {planeta}\n",
    "    \"\"\"\n",
    "    # Se realiza la impresion de la tierra\n",
    "    print(nuevaPlantilla.format(numero=i, planeta=planets[i]))"
   ]
  }
 ],
 "metadata": {
  "interpreter": {
   "hash": "31f2aee4e71d21fbe5cf8b01ff0e069b9275f58929596ceb00d14d90e3e16cd6"
  },
  "kernelspec": {
   "display_name": "Python 3.8.9 64-bit",
   "language": "python",
   "name": "python3"
  },
  "language_info": {
   "codemirror_mode": {
    "name": "ipython",
    "version": 3
   },
   "file_extension": ".py",
   "mimetype": "text/x-python",
   "name": "python",
   "nbconvert_exporter": "python",
   "pygments_lexer": "ipython3",
   "version": "3.8.9"
  },
  "orig_nbformat": 4
 },
 "nbformat": 4,
 "nbformat_minor": 2
}
