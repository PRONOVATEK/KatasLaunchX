{
 "cells": [
  {
   "cell_type": "markdown",
   "metadata": {},
   "source": [
    "# Modulo Katas 4\n",
    "\n",
    "## Ejercicio 1"
   ]
  },
  {
   "cell_type": "code",
   "execution_count": 17,
   "metadata": {},
   "outputs": [
    {
     "name": "stdout",
     "output_type": "stream",
     "text": [
      "Interesting facts about the Moon. The Moon is Earth's only satellite. There are several interesting facts about the Moon and how it affects life here on Earth. On average, the Moon moves 4cm away from the Earth every year. This yearly drift is not significant enough to cause immediate effects on Earth. The highest daylight temperature of the Moon is 127 C.\n",
      "['Interesting facts about the Moon', \"The Moon is Earth's only satellite\", 'There are several interesting facts about the Moon and how it affects life here on Earth', 'On average, the Moon moves 4cm away from the Earth every year', 'This yearly drift is not significant enough to cause immediate effects on Earth', 'The highest daylight temperature of the Moon is 127 C.']\n",
      "['average', 'temperature', 'distance']\n",
      "The Moon is Earth's only satellite.\n",
      "There are several interesting facts about the Moon and how it affects life here on Earth.\n",
      "This yearly drift is not significant enough to cause immediate effects on Earth.\n",
      "The highest daylight temperature of the Moon is 127 C.\n",
      "Interesting facts about the Moon\n",
      "The Moon is Earth's only satellite\n",
      "There are several interesting facts about the Moon and how it affects life here on Earth\n",
      "This yearly drift is not significant enough to cause immediate effects on Earth\n",
      "The highest daylight temperature of the Moon is 127 Celsius Degrees.\n"
     ]
    }
   ],
   "source": [
    "# Se genera la variable text con la que vamos a trabajar\n",
    "text = \"\"\"Interesting facts about the Moon. The Moon is Earth's only satellite. There are several interesting facts about the Moon and how it affects life here on Earth. On average, the Moon moves 4cm away from the Earth every year. This yearly drift is not significant enough to cause immediate effects on Earth. The highest daylight temperature of the Moon is 127 C.\"\"\"\n",
    "# Imprimimos la referencia\n",
    "print(text)\n",
    "# Dividimos el texto por cada \".\"\n",
    "divisionTexto = text.split(\". \")\n",
    "print(divisionTexto)\n",
    "\n",
    "# Definimos las palabras pista: average, temperature y distance para este ejercicio\n",
    "palabrasClave = ['average', 'temperature', 'distance']\n",
    "print(palabrasClave)\n",
    "\n",
    "# Realizamos un for para mostrar los datos de la luna que esten relacionados con las palabras clave\n",
    "for i in divisionTexto:\n",
    "    for palabrasClave in palabrasClave:\n",
    "        if palabrasClave in i:\n",
    "            if i[-1] == '.':\n",
    "                print(i)\n",
    "            else:\n",
    "                print(i + '.')\n",
    "            break\n",
    "\n",
    "# Cambiamos en la oracion C por Celsius\n",
    "for i in divisionTexto:\n",
    "    for j in palabrasClave:\n",
    "        #Utilizamos la funcion 'in' para realizar la busqueda por cada segmento de la cadena previamente dividida\n",
    "        if j in i:\n",
    "            print(i.replace(' C', ' Celsius Degrees'))\n",
    "            break"
   ]
  },
  {
   "cell_type": "markdown",
   "metadata": {},
   "source": [
    "## Ejercicio 2"
   ]
  },
  {
   "cell_type": "code",
   "execution_count": 88,
   "metadata": {},
   "outputs": [
    {
     "name": "stdout",
     "output_type": "stream",
     "text": [
      "Se muestra la primer forma de plantilla: \n",
      "Informacion Sobre Ganímedes \n",
      "---------------------------------------------------------------------------------------------------- \n",
      "El nombre de su planeta dominante es: Marte  \n",
      "La Gravedad en Ganímedes es de: 1.4300000000000002 m/s2 \n",
      " \n",
      "\n",
      "Se muestra la segunda forma de plantilla pero con un arreglo: \n",
      "\n",
      "    Informacion Sobre: Luna\n",
      "    -------------------------------------------------------------------------------\n",
      "    El nombre de su planeta dominante es: \tTierra\n",
      "    La Gravedad en Luna es de: \t1.6199999999999999 m/s2\n",
      "    \n",
      "\n",
      "    Informacion Sobre: Ganímedes\n",
      "    -------------------------------------------------------------------------------\n",
      "    El nombre de su planeta dominante es: \tMarte\n",
      "    La Gravedad en Ganímedes es de: \t1.4300000000000002 m/s2\n",
      "    \n"
     ]
    }
   ],
   "source": [
    "# Declaramos la libreria de tiempo ya que la usaremos despues\n",
    "import time\n",
    "\n",
    "# Se declaran los datos con los que vamos a trabajar\n",
    "name = [\"Luna\", 'Ganímedes']\n",
    "gravity = [0.00162, 0.00143]  # este dato es en kms\n",
    "planet =[\"Tierra\", 'Marte']\n",
    "\n",
    "# Para la explicacion de como generar la plantilla se hace lo siguiente\n",
    "# Se genera el titulo\n",
    "titulo = f'Informacion Sobre {nombre}'\n",
    "\n",
    "# Se genera la plantilla\n",
    "datos = f\"\"\"{'-'*100} \n",
    "El nombre de su planeta dominante es: {planeta} \n",
    "La Gravedad en {nombre} es de: {gravedad * 1000} m/s2 \n",
    "\"\"\"\n",
    "\n",
    "# Unimos las cadenas\n",
    "plantilla = f\"\"\"{titulo.title()} \n",
    "{datos} \n",
    "\"\"\" \n",
    "\n",
    "# Mandamos a imprimir los datos del arreglo\n",
    "print(\"Se muestra la primer forma de plantilla: \")\n",
    "print(plantilla.format(nombre=name[1], planeta=planet[1], gravedad=gravity[1] * 1000))\n",
    "\n",
    "time.sleep(5)\n",
    "\n",
    "print(\"Se muestra la segunda forma de plantilla pero con un arreglo: \")\n",
    "# Aqui realizamos por medio de un for la impresion de toda la cadena de datos\n",
    "for i in range(len(name)):\n",
    "    nuevaPlantilla = \"\"\"\n",
    "    Informacion Sobre: {nombre}\n",
    "    -------------------------------------------------------------------------------\n",
    "    El nombre de su planeta dominante es: \\t{planeta}\n",
    "    La Gravedad en {nombre} es de: \\t{gravedad} m/s2\n",
    "    \"\"\"\n",
    "    # Se realiza la impresion de la tierra\n",
    "    print(nuevaPlantilla.format(nombre=name[i], planeta=planet[i], gravedad=gravity[i] * 1000))"
   ]
  }
 ],
 "metadata": {
  "interpreter": {
   "hash": "31f2aee4e71d21fbe5cf8b01ff0e069b9275f58929596ceb00d14d90e3e16cd6"
  },
  "kernelspec": {
   "display_name": "Python 3.8.9 64-bit",
   "language": "python",
   "name": "python3"
  },
  "language_info": {
   "codemirror_mode": {
    "name": "ipython",
    "version": 3
   },
   "file_extension": ".py",
   "mimetype": "text/x-python",
   "name": "python",
   "nbconvert_exporter": "python",
   "pygments_lexer": "ipython3",
   "version": "3.8.9"
  },
  "orig_nbformat": 4
 },
 "nbformat": 4,
 "nbformat_minor": 2
}
