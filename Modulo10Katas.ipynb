{
 "cells": [
  {
   "cell_type": "markdown",
   "metadata": {},
   "source": [
    "# Modulo Katas 10\n",
    "\n",
    "## Ejercicios"
   ]
  },
  {
   "cell_type": "code",
   "execution_count": 1,
   "metadata": {},
   "outputs": [
    {
     "ename": "FileNotFoundError",
     "evalue": "[Errno 2] No such file or directory: '/path/to/mars.jpg'",
     "output_type": "error",
     "traceback": [
      "\u001b[0;31m---------------------------------------------------------------------------\u001b[0m",
      "\u001b[0;31mFileNotFoundError\u001b[0m                         Traceback (most recent call last)",
      "\u001b[1;32m/Users/stark/Documents/KatasLaunchX/Modulo10Katas.ipynb Cell 2'\u001b[0m in \u001b[0;36m<module>\u001b[0;34m\u001b[0m\n\u001b[1;32m      <a href='vscode-notebook-cell:/Users/stark/Documents/KatasLaunchX/Modulo10Katas.ipynb#ch0000003?line=0'>1</a>\u001b[0m \u001b[39m#Tracebacks\u001b[39;00m\n\u001b[0;32m----> <a href='vscode-notebook-cell:/Users/stark/Documents/KatasLaunchX/Modulo10Katas.ipynb#ch0000003?line=2'>3</a>\u001b[0m \u001b[39mopen\u001b[39;49m(\u001b[39m\"\u001b[39;49m\u001b[39m/path/to/mars.jpg\u001b[39;49m\u001b[39m\"\u001b[39;49m)\n",
      "\u001b[0;31mFileNotFoundError\u001b[0m: [Errno 2] No such file or directory: '/path/to/mars.jpg'"
     ]
    }
   ],
   "source": [
    "# Tracebacks\n",
    "# Aqui daremos seguimiento a un error debido al simple hecho de que el archivo que se intenta abrir no existe\n",
    "open(\"/path/to/mars.jpg\")"
   ]
  },
  {
   "cell_type": "markdown",
   "metadata": {},
   "source": [
    "En el punto anterior se nos indico un errno 2 que hizo referencia a la inexistencia del archivo.\n",
    "\n",
    "Ahora intentaremos hacerlo abriendo un archivo desde terminal en python generando la funcion como se indica.\n",
    "\n",
    "![Ejercicio10:errorOpen.py](img/katas10errorOpen.png)\n",
    "\n",
    "A diferencia del anterior, en este notamos que incremento el detalle en el error con la linea numero 5 y posterior nos lleva al mismo error de archivo inexistente.\n",
    "\n",
    "Ahora intentaremos un ejercicio diferente\n",
    "\n",
    "![Ejercicio10:errorTry.py](img/katas10Try.png)\n",
    "\n",
    "Con este metodo pudimos manejar el error e indicar el mensaje a mostrar como seguimiento del mismo\n",
    "\n",
    "Ahora intentaremos con una función"
   ]
  },
  {
   "cell_type": "code",
   "execution_count": 3,
   "metadata": {},
   "outputs": [
    {
     "name": "stdout",
     "output_type": "stream",
     "text": [
      "No se pudo localizar el archivo config.txt!\n"
     ]
    }
   ],
   "source": [
    "# Generamos la función main() y ahora describimos el mismo proceso que en el ejemplo anterior\n",
    "# Esto es el contenido del archivo config.py de nuestro sistema y esta ubicado en el directorio python\n",
    "def main():\n",
    "    try:\n",
    "        configuration = open('config.txt')\n",
    "    except FileNotFoundError:\n",
    "        print(\"No se pudo localizar el archivo config.txt!\")\n",
    "\n",
    "\n",
    "if __name__ == '__main__':\n",
    "    main()"
   ]
  },
  {
   "cell_type": "markdown",
   "metadata": {},
   "source": [
    "En este caso nuevamente intentaremos ahora cambiando de archivo a directorio config.txt y observamos el siguiente error:\n",
    "\n",
    "![Ejercicio10:errorTry.py](img/katas10directorio.png)"
   ]
  },
  {
   "cell_type": "code",
   "execution_count": null,
   "metadata": {},
   "outputs": [],
   "source": [
    "# En este nuevo codigo se generaliza la exception\n",
    "def main():\n",
    "    try:\n",
    "        configuration = open('config.txt')\n",
    "    except Exception:\n",
    "        print(\"No se pudo localizar el archivo config.txt!\")\n",
    "\n",
    "\n",
    "if __name__ == '__main__':\n",
    "    main()"
   ]
  },
  {
   "cell_type": "markdown",
   "metadata": {},
   "source": [
    "Ahora se muestra el nuevo error con el Exception generalizado\n",
    "\n",
    "![Ejercicio10:exception.py](img/katas10directorio.png)\n",
    "\n",
    "Ahora segmentaremos el tipo de error y obtendremos mayor detalle"
   ]
  },
  {
   "cell_type": "code",
   "execution_count": null,
   "metadata": {},
   "outputs": [],
   "source": [
    "# En este nuevo codigo se generaliza la exception\n",
    "def main():\n",
    "    try:\n",
    "        configuration = open('config.txt')\n",
    "    except FileNotFoundError:\n",
    "        print(\"No se pudo localizar el archivo config.txt!\")\n",
    "    except IsADirectoryError:\n",
    "        print(\"Se localizo un config.txt, pero es un directorio!\")\n",
    "\n",
    "\n",
    "if __name__ == '__main__':\n",
    "    main()"
   ]
  },
  {
   "cell_type": "markdown",
   "metadata": {},
   "source": [
    "y obtenemos este nuevo mensaje de error con detalle:\n",
    "\n",
    "![Ejercicio10:exception.py](img/katas10directorioSec.png)"
   ]
  },
  {
   "cell_type": "code",
   "execution_count": null,
   "metadata": {},
   "outputs": [],
   "source": [
    "# Modificamos el codigo ahora con el detalle de permisos\n",
    "\n",
    "def main():\n",
    "    try:\n",
    "        configuration = open('config.txt')\n",
    "    except FileNotFoundError:\n",
    "        print(\"No se pudo localizar el archivo config.txt!\")\n",
    "    except IsADirectoryError:\n",
    "        print(\"Se localizo un config.txt, pero es un directorio!\")\n",
    "    except (BlockingIOError, TimeoutError):\n",
    "        print(\"Sistema de archivos saturado, no se puede completar la lectura del archivo!\")\n",
    "\n",
    "if __name__ == '__main__':\n",
    "    main()"
   ]
  },
  {
   "cell_type": "code",
   "execution_count": 5,
   "metadata": {},
   "outputs": [
    {
     "name": "stdout",
     "output_type": "stream",
     "text": [
      "Tuve un problema leyendo el archvo: [Errno 2] No such file or directory: 'mars.jpg'\n"
     ]
    }
   ],
   "source": [
    "# En esta tecnica trabajamos adicionando el error\n",
    "\n",
    "try:\n",
    "    open(\"mars.jpg\")\n",
    "except FileNotFoundError as err:\n",
    "    print(\"Tuve un problema leyendo el archvo:\", err)"
   ]
  },
  {
   "cell_type": "code",
   "execution_count": 7,
   "metadata": {},
   "outputs": [
    {
     "name": "stdout",
     "output_type": "stream",
     "text": [
      "No pude encontre el archivo!\n"
     ]
    }
   ],
   "source": [
    "# Ahora generaremos distincion entre errores\n",
    "try:\n",
    "    open(\"config.txt\")\n",
    "except OSError as err:\n",
    "    if err.errno == 2:\n",
    "        print(\"No pude encontre el archivo!\")\n",
    "    elif err.errno == 13:\n",
    "        print(\"Encontre el archivo pero no pude leerlo!\")"
   ]
  },
  {
   "cell_type": "markdown",
   "metadata": {},
   "source": [
    "## Nuevo Ejercicio\n",
    "Ahora generaremos otro ejercicio con el detalle del caso de los astronautas"
   ]
  },
  {
   "cell_type": "code",
   "execution_count": 8,
   "metadata": {},
   "outputs": [],
   "source": [
    "def water_left(astronauts, water_left, days_left):\n",
    "    daily_usage = astronauts * 11\n",
    "    total_usage = daily_usage * days_left\n",
    "    total_water_left = water_left - total_usage\n",
    "    return f\"Total water left after {days_left} days is: {total_water_left} liters\""
   ]
  },
  {
   "cell_type": "code",
   "execution_count": 9,
   "metadata": {},
   "outputs": [
    {
     "data": {
      "text/plain": [
       "'Total water left after 2 days is: -10 liters'"
      ]
     },
     "execution_count": 9,
     "metadata": {},
     "output_type": "execute_result"
    }
   ],
   "source": [
    "water_left(5, 100, 2)"
   ]
  },
  {
   "cell_type": "code",
   "execution_count": 13,
   "metadata": {},
   "outputs": [],
   "source": [
    "# Ahora modificamos nuevamente la funcion \n",
    "def water_left1(astronauts, water_left, days_left):\n",
    "    daily_usage = astronauts * 11\n",
    "    total_usage = daily_usage * days_left\n",
    "    total_water_left = water_left - total_usage\n",
    "    if total_water_left < 0:\n",
    "        raise RuntimeError(f\"There is not enough water for {astronauts} astronauts after {days_left} days!\")\n",
    "    return f\"Total water left after {days_left} days is: {total_water_left} liters\""
   ]
  },
  {
   "cell_type": "code",
   "execution_count": 14,
   "metadata": {},
   "outputs": [
    {
     "ename": "RuntimeError",
     "evalue": "There is not enough water for 5 astronauts after 2 days!",
     "output_type": "error",
     "traceback": [
      "\u001b[0;31m---------------------------------------------------------------------------\u001b[0m",
      "\u001b[0;31mRuntimeError\u001b[0m                              Traceback (most recent call last)",
      "\u001b[1;32m/Users/stark/Documents/KatasLaunchX/Modulo10Katas.ipynb Cell 17'\u001b[0m in \u001b[0;36m<module>\u001b[0;34m\u001b[0m\n\u001b[1;32m      <a href='vscode-notebook-cell:/Users/stark/Documents/KatasLaunchX/Modulo10Katas.ipynb#ch0000021?line=0'>1</a>\u001b[0m \u001b[39m# Ejecutamos nuevamente\u001b[39;00m\n\u001b[0;32m----> <a href='vscode-notebook-cell:/Users/stark/Documents/KatasLaunchX/Modulo10Katas.ipynb#ch0000021?line=1'>2</a>\u001b[0m water_left1(\u001b[39m5\u001b[39;49m, \u001b[39m100\u001b[39;49m, \u001b[39m2\u001b[39;49m)\n",
      "\u001b[1;32m/Users/stark/Documents/KatasLaunchX/Modulo10Katas.ipynb Cell 16'\u001b[0m in \u001b[0;36mwater_left1\u001b[0;34m(astronauts, water_left, days_left)\u001b[0m\n\u001b[1;32m      <a href='vscode-notebook-cell:/Users/stark/Documents/KatasLaunchX/Modulo10Katas.ipynb#ch0000020?line=4'>5</a>\u001b[0m total_water_left \u001b[39m=\u001b[39m water_left \u001b[39m-\u001b[39m total_usage\n\u001b[1;32m      <a href='vscode-notebook-cell:/Users/stark/Documents/KatasLaunchX/Modulo10Katas.ipynb#ch0000020?line=5'>6</a>\u001b[0m \u001b[39mif\u001b[39;00m total_water_left \u001b[39m<\u001b[39m \u001b[39m0\u001b[39m:\n\u001b[0;32m----> <a href='vscode-notebook-cell:/Users/stark/Documents/KatasLaunchX/Modulo10Katas.ipynb#ch0000020?line=6'>7</a>\u001b[0m     \u001b[39mraise\u001b[39;00m \u001b[39mRuntimeError\u001b[39;00m(\u001b[39mf\u001b[39m\u001b[39m\"\u001b[39m\u001b[39mThere is not enough water for \u001b[39m\u001b[39m{\u001b[39;00mastronauts\u001b[39m}\u001b[39;00m\u001b[39m astronauts after \u001b[39m\u001b[39m{\u001b[39;00mdays_left\u001b[39m}\u001b[39;00m\u001b[39m days!\u001b[39m\u001b[39m\"\u001b[39m)\n\u001b[1;32m      <a href='vscode-notebook-cell:/Users/stark/Documents/KatasLaunchX/Modulo10Katas.ipynb#ch0000020?line=7'>8</a>\u001b[0m \u001b[39mreturn\u001b[39;00m \u001b[39mf\u001b[39m\u001b[39m\"\u001b[39m\u001b[39mTotal water left after \u001b[39m\u001b[39m{\u001b[39;00mdays_left\u001b[39m}\u001b[39;00m\u001b[39m days is: \u001b[39m\u001b[39m{\u001b[39;00mtotal_water_left\u001b[39m}\u001b[39;00m\u001b[39m liters\u001b[39m\u001b[39m\"\u001b[39m\n",
      "\u001b[0;31mRuntimeError\u001b[0m: There is not enough water for 5 astronauts after 2 days!"
     ]
    }
   ],
   "source": [
    "# Ejecutamos nuevamente\n",
    "water_left1(5, 100, 2)"
   ]
  },
  {
   "cell_type": "code",
   "execution_count": 19,
   "metadata": {},
   "outputs": [
    {
     "name": "stdout",
     "output_type": "stream",
     "text": [
      "Se encontro el siguiente fallo: There is not enough water for 5 astronauts after 2 days!\n"
     ]
    }
   ],
   "source": [
    "# Modificamos la execucion y añadimos el try para obtener mejor el dato del error\n",
    "\n",
    "def alert_navigation_system(error):\n",
    "    print(\"Se encontro el siguiente fallo: \" + str(error))\n",
    "\n",
    "try:\n",
    "    water_left1(5, 100, 2)\n",
    "except RuntimeError as err:\n",
    "    alert_navigation_system(err)"
   ]
  },
  {
   "cell_type": "code",
   "execution_count": 16,
   "metadata": {},
   "outputs": [
    {
     "ename": "TypeError",
     "evalue": "can't multiply sequence by non-int of type 'NoneType'",
     "output_type": "error",
     "traceback": [
      "\u001b[0;31m---------------------------------------------------------------------------\u001b[0m",
      "\u001b[0;31mTypeError\u001b[0m                                 Traceback (most recent call last)",
      "\u001b[1;32m/Users/stark/Documents/KatasLaunchX/Modulo10Katas.ipynb Cell 19'\u001b[0m in \u001b[0;36m<module>\u001b[0;34m\u001b[0m\n\u001b[0;32m----> <a href='vscode-notebook-cell:/Users/stark/Documents/KatasLaunchX/Modulo10Katas.ipynb#ch0000023?line=0'>1</a>\u001b[0m water_left(\u001b[39m\"\u001b[39;49m\u001b[39m3\u001b[39;49m\u001b[39m\"\u001b[39;49m, \u001b[39m\"\u001b[39;49m\u001b[39m200\u001b[39;49m\u001b[39m\"\u001b[39;49m, \u001b[39mNone\u001b[39;49;00m)\n",
      "\u001b[1;32m/Users/stark/Documents/KatasLaunchX/Modulo10Katas.ipynb Cell 14'\u001b[0m in \u001b[0;36mwater_left\u001b[0;34m(astronauts, water_left, days_left)\u001b[0m\n\u001b[1;32m      <a href='vscode-notebook-cell:/Users/stark/Documents/KatasLaunchX/Modulo10Katas.ipynb#ch0000018?line=0'>1</a>\u001b[0m \u001b[39mdef\u001b[39;00m \u001b[39mwater_left\u001b[39m(astronauts, water_left, days_left):\n\u001b[1;32m      <a href='vscode-notebook-cell:/Users/stark/Documents/KatasLaunchX/Modulo10Katas.ipynb#ch0000018?line=1'>2</a>\u001b[0m     daily_usage \u001b[39m=\u001b[39m astronauts \u001b[39m*\u001b[39m \u001b[39m11\u001b[39m\n\u001b[0;32m----> <a href='vscode-notebook-cell:/Users/stark/Documents/KatasLaunchX/Modulo10Katas.ipynb#ch0000018?line=2'>3</a>\u001b[0m     total_usage \u001b[39m=\u001b[39m daily_usage \u001b[39m*\u001b[39;49m days_left\n\u001b[1;32m      <a href='vscode-notebook-cell:/Users/stark/Documents/KatasLaunchX/Modulo10Katas.ipynb#ch0000018?line=3'>4</a>\u001b[0m     total_water_left \u001b[39m=\u001b[39m water_left \u001b[39m-\u001b[39m total_usage\n\u001b[1;32m      <a href='vscode-notebook-cell:/Users/stark/Documents/KatasLaunchX/Modulo10Katas.ipynb#ch0000018?line=4'>5</a>\u001b[0m     \u001b[39mreturn\u001b[39;00m \u001b[39mf\u001b[39m\u001b[39m\"\u001b[39m\u001b[39mTotal water left after \u001b[39m\u001b[39m{\u001b[39;00mdays_left\u001b[39m}\u001b[39;00m\u001b[39m days is: \u001b[39m\u001b[39m{\u001b[39;00mtotal_water_left\u001b[39m}\u001b[39;00m\u001b[39m liters\u001b[39m\u001b[39m\"\u001b[39m\n",
      "\u001b[0;31mTypeError\u001b[0m: can't multiply sequence by non-int of type 'NoneType'"
     ]
    }
   ],
   "source": [
    "water_left(\"3\", \"200\", None)"
   ]
  },
  {
   "cell_type": "code",
   "execution_count": 21,
   "metadata": {},
   "outputs": [],
   "source": [
    "# Agregamos la nueva deteccion de este parametro desconocido\n",
    "\n",
    "def water_left3(astronauts, water_left, days_left):\n",
    "    for argument in [astronauts, water_left, days_left]:\n",
    "        try:\n",
    "            # Si el argumento no es int, la siguiente operacion debe funcionar\n",
    "            argument / 10\n",
    "        except TypeError:\n",
    "            raise TypeError(f\"Todos los argumentos deben ser int, `pero se recibio`: '{argument}'\")\n",
    "    daily_usage = astronauts * 11\n",
    "    total_usage = daily_usage * days_left\n",
    "    total_water_left = water_left - total_usage\n",
    "    if total_water_left < 0:\n",
    "        raise RuntimeError(f\"No hay suficiente agua para los {astronauts} astronautas despues {days_left} dias!\")\n",
    "    return f\"El total de agua restante para {days_left} dias es: {total_water_left} litros\""
   ]
  },
  {
   "cell_type": "code",
   "execution_count": 22,
   "metadata": {},
   "outputs": [
    {
     "ename": "TypeError",
     "evalue": "Todos los argumentos deben ser int, `pero se recibio`: '3'",
     "output_type": "error",
     "traceback": [
      "\u001b[0;31m---------------------------------------------------------------------------\u001b[0m",
      "\u001b[0;31mTypeError\u001b[0m                                 Traceback (most recent call last)",
      "\u001b[1;32m/Users/stark/Documents/KatasLaunchX/Modulo10Katas.ipynb Cell 20'\u001b[0m in \u001b[0;36mwater_left3\u001b[0;34m(astronauts, water_left, days_left)\u001b[0m\n\u001b[1;32m      <a href='vscode-notebook-cell:/Users/stark/Documents/KatasLaunchX/Modulo10Katas.ipynb#ch0000024?line=4'>5</a>\u001b[0m \u001b[39mtry\u001b[39;00m:\n\u001b[1;32m      <a href='vscode-notebook-cell:/Users/stark/Documents/KatasLaunchX/Modulo10Katas.ipynb#ch0000024?line=5'>6</a>\u001b[0m     \u001b[39m# Si el argumento no es int, la siguiente operacion debe funcionar\u001b[39;00m\n\u001b[0;32m----> <a href='vscode-notebook-cell:/Users/stark/Documents/KatasLaunchX/Modulo10Katas.ipynb#ch0000024?line=6'>7</a>\u001b[0m     argument \u001b[39m/\u001b[39;49m \u001b[39m10\u001b[39;49m\n\u001b[1;32m      <a href='vscode-notebook-cell:/Users/stark/Documents/KatasLaunchX/Modulo10Katas.ipynb#ch0000024?line=7'>8</a>\u001b[0m \u001b[39mexcept\u001b[39;00m \u001b[39mTypeError\u001b[39;00m:\n",
      "\u001b[0;31mTypeError\u001b[0m: unsupported operand type(s) for /: 'str' and 'int'",
      "\nDuring handling of the above exception, another exception occurred:\n",
      "\u001b[0;31mTypeError\u001b[0m                                 Traceback (most recent call last)",
      "\u001b[1;32m/Users/stark/Documents/KatasLaunchX/Modulo10Katas.ipynb Cell 21'\u001b[0m in \u001b[0;36m<module>\u001b[0;34m\u001b[0m\n\u001b[1;32m      <a href='vscode-notebook-cell:/Users/stark/Documents/KatasLaunchX/Modulo10Katas.ipynb#ch0000025?line=0'>1</a>\u001b[0m \u001b[39m# Invocamos nuevamente la funcion\u001b[39;00m\n\u001b[0;32m----> <a href='vscode-notebook-cell:/Users/stark/Documents/KatasLaunchX/Modulo10Katas.ipynb#ch0000025?line=2'>3</a>\u001b[0m water_left3(\u001b[39m\"\u001b[39;49m\u001b[39m3\u001b[39;49m\u001b[39m\"\u001b[39;49m, \u001b[39m\"\u001b[39;49m\u001b[39m200\u001b[39;49m\u001b[39m\"\u001b[39;49m, \u001b[39mNone\u001b[39;49;00m)\n",
      "\u001b[1;32m/Users/stark/Documents/KatasLaunchX/Modulo10Katas.ipynb Cell 20'\u001b[0m in \u001b[0;36mwater_left3\u001b[0;34m(astronauts, water_left, days_left)\u001b[0m\n\u001b[1;32m      <a href='vscode-notebook-cell:/Users/stark/Documents/KatasLaunchX/Modulo10Katas.ipynb#ch0000024?line=6'>7</a>\u001b[0m         argument \u001b[39m/\u001b[39m \u001b[39m10\u001b[39m\n\u001b[1;32m      <a href='vscode-notebook-cell:/Users/stark/Documents/KatasLaunchX/Modulo10Katas.ipynb#ch0000024?line=7'>8</a>\u001b[0m     \u001b[39mexcept\u001b[39;00m \u001b[39mTypeError\u001b[39;00m:\n\u001b[0;32m----> <a href='vscode-notebook-cell:/Users/stark/Documents/KatasLaunchX/Modulo10Katas.ipynb#ch0000024?line=8'>9</a>\u001b[0m         \u001b[39mraise\u001b[39;00m \u001b[39mTypeError\u001b[39;00m(\u001b[39mf\u001b[39m\u001b[39m\"\u001b[39m\u001b[39mTodos los argumentos deben ser int, `pero se recibio`: \u001b[39m\u001b[39m'\u001b[39m\u001b[39m{\u001b[39;00margument\u001b[39m}\u001b[39;00m\u001b[39m'\u001b[39m\u001b[39m\"\u001b[39m)\n\u001b[1;32m     <a href='vscode-notebook-cell:/Users/stark/Documents/KatasLaunchX/Modulo10Katas.ipynb#ch0000024?line=9'>10</a>\u001b[0m daily_usage \u001b[39m=\u001b[39m astronauts \u001b[39m*\u001b[39m \u001b[39m11\u001b[39m\n\u001b[1;32m     <a href='vscode-notebook-cell:/Users/stark/Documents/KatasLaunchX/Modulo10Katas.ipynb#ch0000024?line=10'>11</a>\u001b[0m total_usage \u001b[39m=\u001b[39m daily_usage \u001b[39m*\u001b[39m days_left\n",
      "\u001b[0;31mTypeError\u001b[0m: Todos los argumentos deben ser int, `pero se recibio`: '3'"
     ]
    }
   ],
   "source": [
    "# Invocamos nuevamente la funcion\n",
    "\n",
    "water_left3(\"3\", \"200\", None)"
   ]
  }
 ],
 "metadata": {
  "interpreter": {
   "hash": "31f2aee4e71d21fbe5cf8b01ff0e069b9275f58929596ceb00d14d90e3e16cd6"
  },
  "kernelspec": {
   "display_name": "Python 3.8.9 64-bit",
   "language": "python",
   "name": "python3"
  },
  "language_info": {
   "codemirror_mode": {
    "name": "ipython",
    "version": 3
   },
   "file_extension": ".py",
   "mimetype": "text/x-python",
   "name": "python",
   "nbconvert_exporter": "python",
   "pygments_lexer": "ipython3",
   "version": "3.8.9"
  },
  "orig_nbformat": 4
 },
 "nbformat": 4,
 "nbformat_minor": 2
}
