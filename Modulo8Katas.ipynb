{
 "cells": [
  {
   "cell_type": "markdown",
   "metadata": {},
   "source": [
    "# Modulo Katas 8\n",
    "\n",
    "## Ejercicio 1"
   ]
  },
  {
   "cell_type": "code",
   "execution_count": 7,
   "metadata": {},
   "outputs": [
    {
     "name": "stdout",
     "output_type": "stream",
     "text": [
      "El planeta Marte tiene 2 lunas\n",
      "El planeta Marte tiene una circunferencia polar de 6752 kms y Ecuatorial de 6792 kms\n"
     ]
    }
   ],
   "source": [
    "# Creamos un diccionario planet que contendra: nombre y lunas\n",
    "planeta = {\n",
    "    'Nombre': 'Marte',\n",
    "    'Lunas': 2\n",
    "}\n",
    "\n",
    "# Mostramos el dato del planeta\n",
    "print(f'El planeta {planeta[\"Nombre\"]} tiene {planeta[\"Lunas\"]} lunas')\n",
    "\n",
    "# Agregamos la clave circunferencia con los datos proporcionados previamente\n",
    "planeta['Circunferencia'] = {\n",
    "    'Polar': 6752,\n",
    "    'Ecuatorial': 6792\n",
    "}\n",
    "\n",
    "# Ahora mostramos el dato con la nueva especificación agregada\n",
    "print(f'El planeta {planeta[\"Nombre\"]} tiene una circunferencia polar de {planeta[\"Circunferencia\"][\"Polar\"]} kms y Ecuatorial de {planeta[\"Circunferencia\"][\"Ecuatorial\"]} kms')"
   ]
  },
  {
   "cell_type": "markdown",
   "metadata": {},
   "source": [
    "## Ejercicio 2"
   ]
  },
  {
   "cell_type": "code",
   "execution_count": 19,
   "metadata": {},
   "outputs": [
    {
     "name": "stdout",
     "output_type": "stream",
     "text": [
      "El tamaño promedio de las lunas contadas en los 12 planetas es: 17.833333333333332\n"
     ]
    }
   ],
   "source": [
    "# En este apartado agregaremos en el diccionario los planetas y sus respectivas lunas\n",
    "planet_moons = {\n",
    "    'mercury': 0,\n",
    "    'venus': 0,\n",
    "    'earth': 1,\n",
    "    'mars': 2,\n",
    "    'jupiter': 79,\n",
    "    'saturn': 82,\n",
    "    'uranus': 27,\n",
    "    'neptune': 14,\n",
    "    'pluto': 5,\n",
    "    'haumea': 2,\n",
    "    'makemake': 1,\n",
    "    'eris': 1\n",
    "}\n",
    "\n",
    "# Almacenamos el valor de las lunas en la variable moons para tener la lista de las lunas\n",
    "moons = planet_moons.values()\n",
    "\n",
    "# Almacenamos el numero de planetas\n",
    "planets = len(planet_moons.keys())\n",
    "\n",
    "# Calculamos el total de lunas\n",
    "total_moons = 0 # Creamos e inicializamos la variable en 0 \n",
    "for moon in moons: # El siguiente ciclo nos ayudar a sumar el valor de cada luna para calcular el promedio\n",
    "    total_moons = total_moons + moon\n",
    "\n",
    "# Obtenemos el total\n",
    "# print(total_moons)\n",
    "\n",
    "# Calcula el promedio dividiendo el total_moons por el número de planetas\n",
    "promedio = total_moons / planets\n",
    "\n",
    "# Mostramos los resultados en texto\n",
    "print(f'El tamaño promedio de las lunas contadas en los {planets} planetas es: {promedio}')"
   ]
  }
 ],
 "metadata": {
  "interpreter": {
   "hash": "31f2aee4e71d21fbe5cf8b01ff0e069b9275f58929596ceb00d14d90e3e16cd6"
  },
  "kernelspec": {
   "display_name": "Python 3.8.9 64-bit",
   "language": "python",
   "name": "python3"
  },
  "language_info": {
   "codemirror_mode": {
    "name": "ipython",
    "version": 3
   },
   "file_extension": ".py",
   "mimetype": "text/x-python",
   "name": "python",
   "nbconvert_exporter": "python",
   "pygments_lexer": "ipython3",
   "version": "3.8.9"
  },
  "orig_nbformat": 4
 },
 "nbformat": 4,
 "nbformat_minor": 2
}
