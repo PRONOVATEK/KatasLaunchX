{
 "cells": [
  {
   "cell_type": "markdown",
   "metadata": {},
   "source": [
    "# Modulo Katas 2\n",
    "\n",
    "## Ejercicio 1\n",
    "\n",
    "Ejecutar en terminal el comando python3 -m venv env \n",
    "\n",
    "![Ejercicio1:venv](img/katas2venv.png)"
   ]
  },
  {
   "cell_type": "markdown",
   "metadata": {},
   "source": [
    "## Ejercicio 2\n",
    "\n",
    "Instalar un bliblioteca con pip\n",
    "\n",
    "![Ejercicio2:freeze](img/katas2freeze.png)"
   ]
  },
  {
   "cell_type": "markdown",
   "metadata": {},
   "source": [
    "## Ejercicio 3\n",
    "\n",
    "Desactivar un entorno virtual\n",
    "\n",
    "![Ejercicio1:venv](img/katas2deactivate.png)"
   ]
  }
 ],
 "metadata": {
  "language_info": {
   "name": "python"
  },
  "orig_nbformat": 4
 },
 "nbformat": 4,
 "nbformat_minor": 2
}
