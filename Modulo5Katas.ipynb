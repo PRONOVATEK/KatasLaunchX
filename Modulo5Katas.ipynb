{
 "cells": [
  {
   "cell_type": "markdown",
   "metadata": {},
   "source": [
    "# Modulo Katas 5\n",
    "\n",
    "## Ejercicio 1"
   ]
  },
  {
   "cell_type": "code",
   "execution_count": 6,
   "metadata": {},
   "outputs": [
    {
     "name": "stdout",
     "output_type": "stream",
     "text": [
      "La distancia entre la tierra y jupiter es: 628949330 kilometros\n",
      "La distancia entre la tierra y jupiter es: 390810874.13143003 Millas\n"
     ]
    }
   ],
   "source": [
    "# En este ejercicio se busca encontrar la distancia entre 2 planeta\n",
    "# Declaramos el valor de nuestras variables\n",
    "distanciaTierra = 149597870 # La distancia esta en km\n",
    "distanciaJupiter = 778547200\n",
    "\n",
    "# Realizamos la operacion para medir la distancia entre los dos planetas\n",
    "distanciaEntrePlanetasKM = distanciaJupiter - distanciaTierra\n",
    "print('La distancia entre la tierra y jupiter es: ' + str(distanciaEntrePlanetasKM) + ' kilometros')\n",
    "\n",
    "# Realizamos la conversion a millas 1 km = 0.621371 mi\n",
    "distanciaEntrePlanetasMillas = distanciaEntrePlanetasKM * 0.621371\n",
    "print('La distancia entre la tierra y jupiter es: ' + str(distanciaEntrePlanetasMillas) + ' Millas')\n",
    "\n"
   ]
  },
  {
   "cell_type": "markdown",
   "metadata": {},
   "source": [
    "## Ejercicio 2"
   ]
  },
  {
   "cell_type": "code",
   "execution_count": 17,
   "metadata": {},
   "outputs": [
    {
     "name": "stdout",
     "output_type": "stream",
     "text": [
      "Datos De Distancia Entre Tierra Y Marte \n",
      "-------------------------------------------------------------------------------- \n",
      "La distancia entre ambos planetas es de : 1 KM\n",
      "El equivalente en Millas es de: 0.621 Millas \n",
      " \n",
      "\n"
     ]
    }
   ],
   "source": [
    "# En este ejercicio se busca encontrar la distancia de dos planetas al sol\n",
    "\n",
    "# Primero solicitamos la distancia de los dos planetas\n",
    "nombrePrimerPlaneta = input('Ingresa el nombre del Primer planeta: ')\n",
    "distanciaPrimerPlaneta = input ('Ingresa la distancia de este al sol: ')\n",
    "nombreSegundoPlaneta = input('Ingresa el nombre del Segundo planeta: ')\n",
    "distanciaSegundoPlaneta = input ('Ingresa la distancia de este al sol: ')\n",
    "\n",
    "# Calculamos la distancia entre los dos planetas\n",
    "distanciaEntrePlanetasKM = int(distanciaPrimerPlaneta) - int(distanciaSegundoPlaneta)\n",
    "distanciaEntrePlanetasKM = abs(distanciaEntrePlanetasKM)\n",
    "\n",
    "# Convertir de KM a Millas\n",
    "distanciaEntrePlanetasMillas = distanciaEntrePlanetasKM * 0.621\n",
    "\n",
    "# Se genera la plantilla\n",
    "# Se genera el titulo\n",
    "titulo = f'datos de distancia entre {nombrePrimerPlaneta} y {nombreSegundoPlaneta}'\n",
    "\n",
    "# Se generan los datos \n",
    "datos = f\"\"\"{'-'*80} \n",
    "La distancia entre ambos planetas es de : {distanciaEntrePlanetasKM} KM\n",
    "El equivalente en Millas es de: {distanciaEntrePlanetasMillas} Millas \n",
    "\"\"\"\n",
    "\n",
    "# Unimos las cadenas\n",
    "plantilla = f\"\"\"{titulo.title()} \n",
    "{datos} \n",
    "\"\"\" \n",
    "\n",
    "# Mandamos a imprimir los datos del arreglo\n",
    "print(plantilla)"
   ]
  }
 ],
 "metadata": {
  "interpreter": {
   "hash": "31f2aee4e71d21fbe5cf8b01ff0e069b9275f58929596ceb00d14d90e3e16cd6"
  },
  "kernelspec": {
   "display_name": "Python 3.8.9 64-bit",
   "language": "python",
   "name": "python3"
  },
  "language_info": {
   "codemirror_mode": {
    "name": "ipython",
    "version": 3
   },
   "file_extension": ".py",
   "mimetype": "text/x-python",
   "name": "python",
   "nbconvert_exporter": "python",
   "pygments_lexer": "ipython3",
   "version": "3.8.9"
  },
  "orig_nbformat": 4
 },
 "nbformat": 4,
 "nbformat_minor": 2
}
